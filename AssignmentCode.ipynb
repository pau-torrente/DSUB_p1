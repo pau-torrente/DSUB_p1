{
 "cells": [
  {
   "cell_type": "markdown",
   "id": "visible-color",
   "metadata": {},
   "source": [
    "# Project 1\n",
    "\n",
    "## Exploratory data analysis and preprocessing\n",
    "\n",
    "The **exploratory data analysis** is the statistical treatment to which the samples collected during a research process in any scientific field are subjected.\n",
    "For greater speed and accuracy, the entire process is usually carried out by computer, with specific applications for statistical treatment.\n",
    "\n",
    "### Application to Data Mining\n",
    "\n",
    "In **data mining**, although not mandatory, it is a good practice to analyze the data you will be working with in order to observe its main characteristics in order to get an idea of the structure of the data set, and identify the target variable and possible modeling techniques.\n",
    "\n",
    "**Basic Process**\n",
    "- *Transform the data*: It helps us know what to do with null, missing values, or atypical data. In addition, it establishes if there is a need to reduce the dimensionality of data.\n",
    "- *Visualize*: Use some tool to make a graphical representation of the data, for example, R, Jupyter notebook, Google Colab, etc.\n",
    "- *Analyze and interpret*: Analyze and interpret the data through different visualizations.\n",
    "- *Document*: Document all the graphs and statistics generated.\n",
    "\n",
    "This process is also helpful when reviewing the data description to understand the meaning of each characteristic.\n",
    "\n",
    "There are several activities in doing an exploratory data analysis but in terms of data mining the key points to be made are:\n",
    "\n",
    "- Description of the data structure.\n",
    "- Identification of missing data.\n",
    "- Detection of outliers.\n",
    "- Identification of relationships between variable pairs."
   ]
  },
  {
   "cell_type": "code",
   "execution_count": null,
   "id": "religious-hardware",
   "metadata": {},
   "outputs": [],
   "source": []
  },
  {
   "cell_type": "markdown",
   "id": "annoying-africa",
   "metadata": {},
   "source": [
    "The **goal of this project** is to learn how to do data exploration. In this case, data from **New York City Yellow Taxis** is used.\n",
    "\n",
    "At the end of the notebook, you should be able to answer the following question:\n",
    "\n",
    "\n",
    "## How has covid affected the use of taxis in New York?\n",
    "\n",
    "Some of the questions you will ask yourselves throughout the notebook are:\n",
    "- How has covid changed the use of taxis in NYC?\n",
    "- What pick-up distribution do the taxis follow and what distance / duration do they take?\n",
    "- What are the areas where taxis are picked up the least? And where else do people go?\n",
    "- What are the most usual times?\n",
    "- Which days of the week and month are used the most? Possible reasons?"
   ]
  },
  {
   "cell_type": "markdown",
   "id": "confused-helena",
   "metadata": {},
   "source": [
    "**Install and import the required libraries**"
   ]
  },
  {
   "cell_type": "raw",
   "id": "swedish-japan",
   "metadata": {
    "tags": []
   },
   "source": [
    "! pip install pyarrow\n",
    "! pip install pyshp\n",
    "! pip install shapely\n",
    "! pip install descartes"
   ]
  },
  {
   "cell_type": "code",
   "execution_count": 1,
   "id": "express-expense",
   "metadata": {},
   "outputs": [],
   "source": [
    "# Import libraries\n",
    "import pandas as pd\n",
    "import numpy as np\n",
    "import urllib.request\n",
    "import zipfile\n",
    "import os\n",
    "from tqdm.notebook import tqdm\n",
    "import pyarrow.parquet as pq"
   ]
  },
  {
   "cell_type": "code",
   "execution_count": 2,
   "id": "initial-reference",
   "metadata": {},
   "outputs": [],
   "source": [
    "import shapefile\n",
    "from shapely.geometry import Polygon\n",
    "from descartes.patch import PolygonPatch\n",
    "import seaborn as sns\n",
    "import matplotlib as mpl\n",
    "import matplotlib.pyplot as plt\n",
    "%matplotlib inline"
   ]
  },
  {
   "cell_type": "code",
   "execution_count": 3,
   "id": "entertaining-scenario",
   "metadata": {},
   "outputs": [],
   "source": [
    "# Global variables\n",
    "\n",
    "YEARS = [2019, 2020, 2021]"
   ]
  },
  {
   "cell_type": "code",
   "execution_count": null,
   "id": "experimental-warner",
   "metadata": {},
   "outputs": [],
   "source": [
    "cleaned_data[cleaned_data.index[cleaned_data.isnull()]]"
   ]
  },
  {
   "cell_type": "markdown",
   "id": "proprietary-sight",
   "metadata": {},
   "source": [
    "First of all, you need to download the data:\n",
    "\n",
    "https://www1.nyc.gov/site/tlc/about/tlc-trip-record-data.page"
   ]
  },
  {
   "cell_type": "code",
   "execution_count": 4,
   "id": "fantastic-footage",
   "metadata": {
    "tags": []
   },
   "outputs": [
    {
     "data": {
      "application/vnd.jupyter.widget-view+json": {
       "model_id": "8e9bf4be63614f48aae969c3582c56b0",
       "version_major": 2,
       "version_minor": 0
      },
      "text/plain": [
       "  0%|          | 0/3 [00:00<?, ?it/s]"
      ]
     },
     "metadata": {},
     "output_type": "display_data"
    },
    {
     "data": {
      "application/vnd.jupyter.widget-view+json": {
       "model_id": "7644a468d4c549cebd699bc86619f1b4",
       "version_major": 2,
       "version_minor": 0
      },
      "text/plain": [
       "  0%|          | 0/12 [00:00<?, ?it/s]"
      ]
     },
     "metadata": {},
     "output_type": "display_data"
    },
    {
     "data": {
      "application/vnd.jupyter.widget-view+json": {
       "model_id": "870a9bd12f6e45ff8342b996b2484094",
       "version_major": 2,
       "version_minor": 0
      },
      "text/plain": [
       "  0%|          | 0/12 [00:00<?, ?it/s]"
      ]
     },
     "metadata": {},
     "output_type": "display_data"
    },
    {
     "data": {
      "application/vnd.jupyter.widget-view+json": {
       "model_id": "871f10b6ada14107a6bb1afac1beec0c",
       "version_major": 2,
       "version_minor": 0
      },
      "text/plain": [
       "  0%|          | 0/12 [00:00<?, ?it/s]"
      ]
     },
     "metadata": {},
     "output_type": "display_data"
    }
   ],
   "source": [
    "# Download the Trip Record Data\n",
    "for year in tqdm(YEARS):\n",
    "    if not os.path.exists(f'data/{year}'):\n",
    "        os.makedirs(f'data/{year}', exist_ok=True)\n",
    "        for month in tqdm(range(1, 13)): \n",
    "            urllib.request.urlretrieve(f'https://d37ci6vzurychx.cloudfront.net/trip-data/yellow_tripdata_{year}-{month:02d}.parquet', f'data/{year}/{month:02d}.parquet')"
   ]
  },
  {
   "cell_type": "markdown",
   "id": "sacred-values",
   "metadata": {},
   "source": [
    "## 01. Data cleaning\n",
    "\n",
    "In order to have clean and useful data, it is necessary to delete all those rows that contain corrupt information:\n",
    "- The pick-up is after the drop-off.\n",
    "- Dates are imported by months and years. Are the dates correct?\n",
    "- Traveling with zero passengers?\n",
    "- Do you travel very long or particularly short?\n",
    "- Negative payments."
   ]
  },
  {
   "cell_type": "markdown",
   "id": "protecting-collapse",
   "metadata": {},
   "source": [
    "**Data Dictionary**\n",
    "\n",
    "Only the next columns are needed:\n",
    "\n",
    "- *tpep_pickup_datetime*: The date and time when the meter was engaged.\n",
    "- *tpep_dropoff_datetime*: The date and time when the meter was disengaged. \n",
    "- *Passenger_count*: The number of passengers in the vehicle. (This is a driver-entered value)\n",
    "- *Trip_distance*: The elapsed trip distance in miles reported by the taximeter.\n",
    "- *PULocationID*: TLC Taxi Zone in which the taximeter was engaged\n",
    "- *DOLocationID*: TLC Taxi Zone in which the taximeter was disengaged\n",
    "- *Payment_type*: A numeric code signifying how the passenger paid for the trip. \n",
    "    - 1= Credit card\n",
    "    - 2= Cash\n",
    "    - 3= No charge\n",
    "    - 4= Dispute\n",
    "    - 5= Unknown\n",
    "    - 6= Voided trip\n",
    "- *Fare_amount*: The time-and-distance fare calculated by the meter.\n",
    "- *Total_amount*: The total amount charged to passengers. Does not include cash tips."
   ]
  },
  {
   "cell_type": "markdown",
   "id": "respective-bloom",
   "metadata": {},
   "source": [
    "**Remarks:**\n",
    "\n",
    "- To speed up the calculations and reduce the computation time, do a uniform sampling of the data (a sample out of 1000).\n",
    "- Datetime columns are *to_datetime* series (help to search functions)"
   ]
  },
  {
   "cell_type": "code",
   "execution_count": 6,
   "id": "dependent-original",
   "metadata": {},
   "outputs": [],
   "source": [
    "def load_table(year, month):\n",
    "    \"\"\"\n",
    "    Function that reads the downloaded data and converts it to a DataFrame\n",
    "    \"\"\"\n",
    "    return pq.read_table(f'data/{year}/{str(month).zfill(2)}.parquet').to_pandas()"
   ]
  },
  {
   "cell_type": "code",
   "execution_count": 7,
   "id": "c2634168",
   "metadata": {},
   "outputs": [
    {
     "data": {
      "text/html": [
       "<div>\n",
       "<style scoped>\n",
       "    .dataframe tbody tr th:only-of-type {\n",
       "        vertical-align: middle;\n",
       "    }\n",
       "\n",
       "    .dataframe tbody tr th {\n",
       "        vertical-align: top;\n",
       "    }\n",
       "\n",
       "    .dataframe thead th {\n",
       "        text-align: right;\n",
       "    }\n",
       "</style>\n",
       "<table border=\"1\" class=\"dataframe\">\n",
       "  <thead>\n",
       "    <tr style=\"text-align: right;\">\n",
       "      <th></th>\n",
       "      <th>VendorID</th>\n",
       "      <th>tpep_pickup_datetime</th>\n",
       "      <th>tpep_dropoff_datetime</th>\n",
       "      <th>passenger_count</th>\n",
       "      <th>trip_distance</th>\n",
       "      <th>RatecodeID</th>\n",
       "      <th>store_and_fwd_flag</th>\n",
       "      <th>PULocationID</th>\n",
       "      <th>DOLocationID</th>\n",
       "      <th>payment_type</th>\n",
       "      <th>fare_amount</th>\n",
       "      <th>extra</th>\n",
       "      <th>mta_tax</th>\n",
       "      <th>tip_amount</th>\n",
       "      <th>tolls_amount</th>\n",
       "      <th>improvement_surcharge</th>\n",
       "      <th>total_amount</th>\n",
       "      <th>congestion_surcharge</th>\n",
       "      <th>airport_fee</th>\n",
       "    </tr>\n",
       "  </thead>\n",
       "  <tbody>\n",
       "    <tr>\n",
       "      <th>0</th>\n",
       "      <td>1</td>\n",
       "      <td>2021-01-01 00:30:10</td>\n",
       "      <td>2021-01-01 00:36:12</td>\n",
       "      <td>1.0</td>\n",
       "      <td>2.10</td>\n",
       "      <td>1.0</td>\n",
       "      <td>N</td>\n",
       "      <td>142</td>\n",
       "      <td>43</td>\n",
       "      <td>2</td>\n",
       "      <td>8.00</td>\n",
       "      <td>3.00</td>\n",
       "      <td>0.5</td>\n",
       "      <td>0.00</td>\n",
       "      <td>0.00</td>\n",
       "      <td>0.3</td>\n",
       "      <td>11.80</td>\n",
       "      <td>2.5</td>\n",
       "      <td>NaN</td>\n",
       "    </tr>\n",
       "    <tr>\n",
       "      <th>1</th>\n",
       "      <td>1</td>\n",
       "      <td>2021-01-01 00:51:20</td>\n",
       "      <td>2021-01-01 00:52:19</td>\n",
       "      <td>1.0</td>\n",
       "      <td>0.20</td>\n",
       "      <td>1.0</td>\n",
       "      <td>N</td>\n",
       "      <td>238</td>\n",
       "      <td>151</td>\n",
       "      <td>2</td>\n",
       "      <td>3.00</td>\n",
       "      <td>0.50</td>\n",
       "      <td>0.5</td>\n",
       "      <td>0.00</td>\n",
       "      <td>0.00</td>\n",
       "      <td>0.3</td>\n",
       "      <td>4.30</td>\n",
       "      <td>0.0</td>\n",
       "      <td>NaN</td>\n",
       "    </tr>\n",
       "    <tr>\n",
       "      <th>2</th>\n",
       "      <td>1</td>\n",
       "      <td>2021-01-01 00:43:30</td>\n",
       "      <td>2021-01-01 01:11:06</td>\n",
       "      <td>1.0</td>\n",
       "      <td>14.70</td>\n",
       "      <td>1.0</td>\n",
       "      <td>N</td>\n",
       "      <td>132</td>\n",
       "      <td>165</td>\n",
       "      <td>1</td>\n",
       "      <td>42.00</td>\n",
       "      <td>0.50</td>\n",
       "      <td>0.5</td>\n",
       "      <td>8.65</td>\n",
       "      <td>0.00</td>\n",
       "      <td>0.3</td>\n",
       "      <td>51.95</td>\n",
       "      <td>0.0</td>\n",
       "      <td>NaN</td>\n",
       "    </tr>\n",
       "    <tr>\n",
       "      <th>3</th>\n",
       "      <td>1</td>\n",
       "      <td>2021-01-01 00:15:48</td>\n",
       "      <td>2021-01-01 00:31:01</td>\n",
       "      <td>0.0</td>\n",
       "      <td>10.60</td>\n",
       "      <td>1.0</td>\n",
       "      <td>N</td>\n",
       "      <td>138</td>\n",
       "      <td>132</td>\n",
       "      <td>1</td>\n",
       "      <td>29.00</td>\n",
       "      <td>0.50</td>\n",
       "      <td>0.5</td>\n",
       "      <td>6.05</td>\n",
       "      <td>0.00</td>\n",
       "      <td>0.3</td>\n",
       "      <td>36.35</td>\n",
       "      <td>0.0</td>\n",
       "      <td>NaN</td>\n",
       "    </tr>\n",
       "    <tr>\n",
       "      <th>4</th>\n",
       "      <td>2</td>\n",
       "      <td>2021-01-01 00:31:49</td>\n",
       "      <td>2021-01-01 00:48:21</td>\n",
       "      <td>1.0</td>\n",
       "      <td>4.94</td>\n",
       "      <td>1.0</td>\n",
       "      <td>N</td>\n",
       "      <td>68</td>\n",
       "      <td>33</td>\n",
       "      <td>1</td>\n",
       "      <td>16.50</td>\n",
       "      <td>0.50</td>\n",
       "      <td>0.5</td>\n",
       "      <td>4.06</td>\n",
       "      <td>0.00</td>\n",
       "      <td>0.3</td>\n",
       "      <td>24.36</td>\n",
       "      <td>2.5</td>\n",
       "      <td>NaN</td>\n",
       "    </tr>\n",
       "    <tr>\n",
       "      <th>...</th>\n",
       "      <td>...</td>\n",
       "      <td>...</td>\n",
       "      <td>...</td>\n",
       "      <td>...</td>\n",
       "      <td>...</td>\n",
       "      <td>...</td>\n",
       "      <td>...</td>\n",
       "      <td>...</td>\n",
       "      <td>...</td>\n",
       "      <td>...</td>\n",
       "      <td>...</td>\n",
       "      <td>...</td>\n",
       "      <td>...</td>\n",
       "      <td>...</td>\n",
       "      <td>...</td>\n",
       "      <td>...</td>\n",
       "      <td>...</td>\n",
       "      <td>...</td>\n",
       "      <td>...</td>\n",
       "    </tr>\n",
       "    <tr>\n",
       "      <th>1369764</th>\n",
       "      <td>2</td>\n",
       "      <td>2021-01-31 23:03:00</td>\n",
       "      <td>2021-01-31 23:33:00</td>\n",
       "      <td>NaN</td>\n",
       "      <td>8.89</td>\n",
       "      <td>NaN</td>\n",
       "      <td>None</td>\n",
       "      <td>229</td>\n",
       "      <td>181</td>\n",
       "      <td>0</td>\n",
       "      <td>27.78</td>\n",
       "      <td>0.00</td>\n",
       "      <td>0.5</td>\n",
       "      <td>7.46</td>\n",
       "      <td>0.00</td>\n",
       "      <td>0.3</td>\n",
       "      <td>38.54</td>\n",
       "      <td>NaN</td>\n",
       "      <td>NaN</td>\n",
       "    </tr>\n",
       "    <tr>\n",
       "      <th>1369765</th>\n",
       "      <td>2</td>\n",
       "      <td>2021-01-31 23:29:00</td>\n",
       "      <td>2021-01-31 23:51:00</td>\n",
       "      <td>NaN</td>\n",
       "      <td>7.43</td>\n",
       "      <td>NaN</td>\n",
       "      <td>None</td>\n",
       "      <td>41</td>\n",
       "      <td>70</td>\n",
       "      <td>0</td>\n",
       "      <td>32.58</td>\n",
       "      <td>0.00</td>\n",
       "      <td>0.5</td>\n",
       "      <td>0.00</td>\n",
       "      <td>6.12</td>\n",
       "      <td>0.3</td>\n",
       "      <td>39.50</td>\n",
       "      <td>NaN</td>\n",
       "      <td>NaN</td>\n",
       "    </tr>\n",
       "    <tr>\n",
       "      <th>1369766</th>\n",
       "      <td>2</td>\n",
       "      <td>2021-01-31 23:25:00</td>\n",
       "      <td>2021-01-31 23:38:00</td>\n",
       "      <td>NaN</td>\n",
       "      <td>6.26</td>\n",
       "      <td>NaN</td>\n",
       "      <td>None</td>\n",
       "      <td>74</td>\n",
       "      <td>137</td>\n",
       "      <td>0</td>\n",
       "      <td>16.85</td>\n",
       "      <td>0.00</td>\n",
       "      <td>0.5</td>\n",
       "      <td>3.90</td>\n",
       "      <td>0.00</td>\n",
       "      <td>0.3</td>\n",
       "      <td>24.05</td>\n",
       "      <td>NaN</td>\n",
       "      <td>NaN</td>\n",
       "    </tr>\n",
       "    <tr>\n",
       "      <th>1369767</th>\n",
       "      <td>6</td>\n",
       "      <td>2021-01-31 23:01:06</td>\n",
       "      <td>2021-02-01 00:02:03</td>\n",
       "      <td>NaN</td>\n",
       "      <td>19.70</td>\n",
       "      <td>NaN</td>\n",
       "      <td>None</td>\n",
       "      <td>265</td>\n",
       "      <td>188</td>\n",
       "      <td>0</td>\n",
       "      <td>53.68</td>\n",
       "      <td>0.00</td>\n",
       "      <td>0.5</td>\n",
       "      <td>0.00</td>\n",
       "      <td>0.00</td>\n",
       "      <td>0.3</td>\n",
       "      <td>54.48</td>\n",
       "      <td>NaN</td>\n",
       "      <td>NaN</td>\n",
       "    </tr>\n",
       "    <tr>\n",
       "      <th>1369768</th>\n",
       "      <td>2</td>\n",
       "      <td>2021-01-31 23:08:29</td>\n",
       "      <td>2021-01-31 23:31:22</td>\n",
       "      <td>NaN</td>\n",
       "      <td>4.68</td>\n",
       "      <td>NaN</td>\n",
       "      <td>None</td>\n",
       "      <td>89</td>\n",
       "      <td>61</td>\n",
       "      <td>0</td>\n",
       "      <td>25.45</td>\n",
       "      <td>2.75</td>\n",
       "      <td>0.5</td>\n",
       "      <td>0.00</td>\n",
       "      <td>0.00</td>\n",
       "      <td>0.3</td>\n",
       "      <td>29.00</td>\n",
       "      <td>NaN</td>\n",
       "      <td>NaN</td>\n",
       "    </tr>\n",
       "  </tbody>\n",
       "</table>\n",
       "<p>1369769 rows × 19 columns</p>\n",
       "</div>"
      ],
      "text/plain": [
       "         VendorID tpep_pickup_datetime tpep_dropoff_datetime  passenger_count  \\\n",
       "0               1  2021-01-01 00:30:10   2021-01-01 00:36:12              1.0   \n",
       "1               1  2021-01-01 00:51:20   2021-01-01 00:52:19              1.0   \n",
       "2               1  2021-01-01 00:43:30   2021-01-01 01:11:06              1.0   \n",
       "3               1  2021-01-01 00:15:48   2021-01-01 00:31:01              0.0   \n",
       "4               2  2021-01-01 00:31:49   2021-01-01 00:48:21              1.0   \n",
       "...           ...                  ...                   ...              ...   \n",
       "1369764         2  2021-01-31 23:03:00   2021-01-31 23:33:00              NaN   \n",
       "1369765         2  2021-01-31 23:29:00   2021-01-31 23:51:00              NaN   \n",
       "1369766         2  2021-01-31 23:25:00   2021-01-31 23:38:00              NaN   \n",
       "1369767         6  2021-01-31 23:01:06   2021-02-01 00:02:03              NaN   \n",
       "1369768         2  2021-01-31 23:08:29   2021-01-31 23:31:22              NaN   \n",
       "\n",
       "         trip_distance  RatecodeID store_and_fwd_flag  PULocationID  \\\n",
       "0                 2.10         1.0                  N           142   \n",
       "1                 0.20         1.0                  N           238   \n",
       "2                14.70         1.0                  N           132   \n",
       "3                10.60         1.0                  N           138   \n",
       "4                 4.94         1.0                  N            68   \n",
       "...                ...         ...                ...           ...   \n",
       "1369764           8.89         NaN               None           229   \n",
       "1369765           7.43         NaN               None            41   \n",
       "1369766           6.26         NaN               None            74   \n",
       "1369767          19.70         NaN               None           265   \n",
       "1369768           4.68         NaN               None            89   \n",
       "\n",
       "         DOLocationID  payment_type  fare_amount  extra  mta_tax  tip_amount  \\\n",
       "0                  43             2         8.00   3.00      0.5        0.00   \n",
       "1                 151             2         3.00   0.50      0.5        0.00   \n",
       "2                 165             1        42.00   0.50      0.5        8.65   \n",
       "3                 132             1        29.00   0.50      0.5        6.05   \n",
       "4                  33             1        16.50   0.50      0.5        4.06   \n",
       "...               ...           ...          ...    ...      ...         ...   \n",
       "1369764           181             0        27.78   0.00      0.5        7.46   \n",
       "1369765            70             0        32.58   0.00      0.5        0.00   \n",
       "1369766           137             0        16.85   0.00      0.5        3.90   \n",
       "1369767           188             0        53.68   0.00      0.5        0.00   \n",
       "1369768            61             0        25.45   2.75      0.5        0.00   \n",
       "\n",
       "         tolls_amount  improvement_surcharge  total_amount  \\\n",
       "0                0.00                    0.3         11.80   \n",
       "1                0.00                    0.3          4.30   \n",
       "2                0.00                    0.3         51.95   \n",
       "3                0.00                    0.3         36.35   \n",
       "4                0.00                    0.3         24.36   \n",
       "...               ...                    ...           ...   \n",
       "1369764          0.00                    0.3         38.54   \n",
       "1369765          6.12                    0.3         39.50   \n",
       "1369766          0.00                    0.3         24.05   \n",
       "1369767          0.00                    0.3         54.48   \n",
       "1369768          0.00                    0.3         29.00   \n",
       "\n",
       "         congestion_surcharge  airport_fee  \n",
       "0                         2.5          NaN  \n",
       "1                         0.0          NaN  \n",
       "2                         0.0          NaN  \n",
       "3                         0.0          NaN  \n",
       "4                         2.5          NaN  \n",
       "...                       ...          ...  \n",
       "1369764                   NaN          NaN  \n",
       "1369765                   NaN          NaN  \n",
       "1369766                   NaN          NaN  \n",
       "1369767                   NaN          NaN  \n",
       "1369768                   NaN          NaN  \n",
       "\n",
       "[1369769 rows x 19 columns]"
      ]
     },
     "execution_count": 7,
     "metadata": {},
     "output_type": "execute_result"
    }
   ],
   "source": [
    "load_table(2021,1)"
   ]
  },
  {
   "cell_type": "markdown",
   "id": "1ee6b305",
   "metadata": {},
   "source": [
    "\n",
    "# numpy function"
   ]
  },
  {
   "cell_type": "code",
   "execution_count": null,
   "id": "a89b3d71",
   "metadata": {},
   "outputs": [],
   "source": [
    "#np.unique() gives from an array all the elemenets that are unique and how many times they have appeared"
   ]
  },
  {
   "cell_type": "code",
   "execution_count": 17,
   "id": "caring-timber",
   "metadata": {
    "tags": []
   },
   "outputs": [
    {
     "data": {
      "text/html": [
       "<div>\n",
       "<style scoped>\n",
       "    .dataframe tbody tr th:only-of-type {\n",
       "        vertical-align: middle;\n",
       "    }\n",
       "\n",
       "    .dataframe tbody tr th {\n",
       "        vertical-align: top;\n",
       "    }\n",
       "\n",
       "    .dataframe thead th {\n",
       "        text-align: right;\n",
       "    }\n",
       "</style>\n",
       "<table border=\"1\" class=\"dataframe\">\n",
       "  <thead>\n",
       "    <tr style=\"text-align: right;\">\n",
       "      <th></th>\n",
       "      <th>tpep_pickup_datetime</th>\n",
       "      <th>tpep_dropoff_datetime</th>\n",
       "      <th>passenger_count</th>\n",
       "      <th>trip_distance</th>\n",
       "      <th>PULocationID</th>\n",
       "      <th>DOLocationID</th>\n",
       "      <th>payment_type</th>\n",
       "      <th>fare_amount</th>\n",
       "      <th>total_amount</th>\n",
       "      <th>year</th>\n",
       "    </tr>\n",
       "  </thead>\n",
       "  <tbody>\n",
       "    <tr>\n",
       "      <th>0</th>\n",
       "      <td>2020-01-01 00:28:15</td>\n",
       "      <td>2020-01-01 00:33:03</td>\n",
       "      <td>1.0</td>\n",
       "      <td>1.20</td>\n",
       "      <td>238</td>\n",
       "      <td>239</td>\n",
       "      <td>1</td>\n",
       "      <td>6.0</td>\n",
       "      <td>11.27</td>\n",
       "      <td>2020</td>\n",
       "    </tr>\n",
       "    <tr>\n",
       "      <th>1000</th>\n",
       "      <td>2020-01-01 00:14:54</td>\n",
       "      <td>2020-01-01 00:25:20</td>\n",
       "      <td>1.0</td>\n",
       "      <td>1.61</td>\n",
       "      <td>211</td>\n",
       "      <td>234</td>\n",
       "      <td>2</td>\n",
       "      <td>8.5</td>\n",
       "      <td>12.30</td>\n",
       "      <td>2020</td>\n",
       "    </tr>\n",
       "    <tr>\n",
       "      <th>2000</th>\n",
       "      <td>2020-01-01 00:38:02</td>\n",
       "      <td>2020-01-01 01:09:18</td>\n",
       "      <td>1.0</td>\n",
       "      <td>19.47</td>\n",
       "      <td>132</td>\n",
       "      <td>24</td>\n",
       "      <td>1</td>\n",
       "      <td>52.0</td>\n",
       "      <td>67.76</td>\n",
       "      <td>2020</td>\n",
       "    </tr>\n",
       "    <tr>\n",
       "      <th>3000</th>\n",
       "      <td>2020-01-01 00:23:54</td>\n",
       "      <td>2020-01-01 00:32:39</td>\n",
       "      <td>1.0</td>\n",
       "      <td>2.60</td>\n",
       "      <td>142</td>\n",
       "      <td>166</td>\n",
       "      <td>1</td>\n",
       "      <td>9.5</td>\n",
       "      <td>15.35</td>\n",
       "      <td>2020</td>\n",
       "    </tr>\n",
       "    <tr>\n",
       "      <th>4000</th>\n",
       "      <td>2020-01-01 00:22:10</td>\n",
       "      <td>2020-01-01 00:27:51</td>\n",
       "      <td>1.0</td>\n",
       "      <td>0.50</td>\n",
       "      <td>262</td>\n",
       "      <td>236</td>\n",
       "      <td>2</td>\n",
       "      <td>5.5</td>\n",
       "      <td>9.30</td>\n",
       "      <td>2020</td>\n",
       "    </tr>\n",
       "    <tr>\n",
       "      <th>...</th>\n",
       "      <td>...</td>\n",
       "      <td>...</td>\n",
       "      <td>...</td>\n",
       "      <td>...</td>\n",
       "      <td>...</td>\n",
       "      <td>...</td>\n",
       "      <td>...</td>\n",
       "      <td>...</td>\n",
       "      <td>...</td>\n",
       "      <td>...</td>\n",
       "    </tr>\n",
       "    <tr>\n",
       "      <th>6333000</th>\n",
       "      <td>2020-01-31 23:40:14</td>\n",
       "      <td>2020-01-31 23:43:23</td>\n",
       "      <td>1.0</td>\n",
       "      <td>0.53</td>\n",
       "      <td>236</td>\n",
       "      <td>236</td>\n",
       "      <td>2</td>\n",
       "      <td>4.0</td>\n",
       "      <td>7.80</td>\n",
       "      <td>2020</td>\n",
       "    </tr>\n",
       "    <tr>\n",
       "      <th>6335000</th>\n",
       "      <td>2020-01-31 23:19:37</td>\n",
       "      <td>2020-01-31 23:31:48</td>\n",
       "      <td>1.0</td>\n",
       "      <td>1.23</td>\n",
       "      <td>141</td>\n",
       "      <td>229</td>\n",
       "      <td>1</td>\n",
       "      <td>9.0</td>\n",
       "      <td>15.36</td>\n",
       "      <td>2020</td>\n",
       "    </tr>\n",
       "    <tr>\n",
       "      <th>6336000</th>\n",
       "      <td>2020-01-31 23:16:00</td>\n",
       "      <td>2020-01-31 23:32:16</td>\n",
       "      <td>1.0</td>\n",
       "      <td>2.00</td>\n",
       "      <td>170</td>\n",
       "      <td>114</td>\n",
       "      <td>1</td>\n",
       "      <td>12.0</td>\n",
       "      <td>18.96</td>\n",
       "      <td>2020</td>\n",
       "    </tr>\n",
       "    <tr>\n",
       "      <th>6337000</th>\n",
       "      <td>2020-01-31 23:44:50</td>\n",
       "      <td>2020-01-31 23:52:42</td>\n",
       "      <td>1.0</td>\n",
       "      <td>1.00</td>\n",
       "      <td>107</td>\n",
       "      <td>224</td>\n",
       "      <td>1</td>\n",
       "      <td>7.0</td>\n",
       "      <td>12.95</td>\n",
       "      <td>2020</td>\n",
       "    </tr>\n",
       "    <tr>\n",
       "      <th>6338000</th>\n",
       "      <td>2020-01-31 23:55:37</td>\n",
       "      <td>2020-01-31 23:59:19</td>\n",
       "      <td>1.0</td>\n",
       "      <td>0.34</td>\n",
       "      <td>74</td>\n",
       "      <td>74</td>\n",
       "      <td>2</td>\n",
       "      <td>4.0</td>\n",
       "      <td>5.30</td>\n",
       "      <td>2020</td>\n",
       "    </tr>\n",
       "  </tbody>\n",
       "</table>\n",
       "<p>6208 rows × 10 columns</p>\n",
       "</div>"
      ],
      "text/plain": [
       "        tpep_pickup_datetime tpep_dropoff_datetime  passenger_count  \\\n",
       "0        2020-01-01 00:28:15   2020-01-01 00:33:03              1.0   \n",
       "1000     2020-01-01 00:14:54   2020-01-01 00:25:20              1.0   \n",
       "2000     2020-01-01 00:38:02   2020-01-01 01:09:18              1.0   \n",
       "3000     2020-01-01 00:23:54   2020-01-01 00:32:39              1.0   \n",
       "4000     2020-01-01 00:22:10   2020-01-01 00:27:51              1.0   \n",
       "...                      ...                   ...              ...   \n",
       "6333000  2020-01-31 23:40:14   2020-01-31 23:43:23              1.0   \n",
       "6335000  2020-01-31 23:19:37   2020-01-31 23:31:48              1.0   \n",
       "6336000  2020-01-31 23:16:00   2020-01-31 23:32:16              1.0   \n",
       "6337000  2020-01-31 23:44:50   2020-01-31 23:52:42              1.0   \n",
       "6338000  2020-01-31 23:55:37   2020-01-31 23:59:19              1.0   \n",
       "\n",
       "         trip_distance  PULocationID  DOLocationID  payment_type  fare_amount  \\\n",
       "0                 1.20           238           239             1          6.0   \n",
       "1000              1.61           211           234             2          8.5   \n",
       "2000             19.47           132            24             1         52.0   \n",
       "3000              2.60           142           166             1          9.5   \n",
       "4000              0.50           262           236             2          5.5   \n",
       "...                ...           ...           ...           ...          ...   \n",
       "6333000           0.53           236           236             2          4.0   \n",
       "6335000           1.23           141           229             1          9.0   \n",
       "6336000           2.00           170           114             1         12.0   \n",
       "6337000           1.00           107           224             1          7.0   \n",
       "6338000           0.34            74            74             2          4.0   \n",
       "\n",
       "         total_amount  year  \n",
       "0               11.27  2020  \n",
       "1000            12.30  2020  \n",
       "2000            67.76  2020  \n",
       "3000            15.35  2020  \n",
       "4000             9.30  2020  \n",
       "...               ...   ...  \n",
       "6333000          7.80  2020  \n",
       "6335000         15.36  2020  \n",
       "6336000         18.96  2020  \n",
       "6337000         12.95  2020  \n",
       "6338000          5.30  2020  \n",
       "\n",
       "[6208 rows x 10 columns]"
      ]
     },
     "execution_count": 17,
     "metadata": {},
     "output_type": "execute_result"
    }
   ],
   "source": [
    "from numpy import logical_not\n",
    "from sqlalchemy import column\n",
    "\n",
    "\n",
    "required_data = ['tpep_pickup_datetime', 'tpep_dropoff_datetime', 'passenger_count', 'trip_distance', \n",
    "                 'PULocationID', 'DOLocationID', 'payment_type', 'fare_amount', 'total_amount']\n",
    "\n",
    "def clean_data(data, year, month, sampling = 1000):\n",
    "    \"\"\"\n",
    "    Function that clears the month data.\n",
    "    \"\"\"\n",
    "    \n",
    "    column_filter = data[required_data]\n",
    "\n",
    "    column_filter = column_filter[::sampling]\n",
    "\n",
    "    cleaned_data = column_filter[(column_filter.tpep_pickup_datetime < column_filter.tpep_dropoff_datetime)]\n",
    "\n",
    "    cleaned_data = cleaned_data[cleaned_data.passenger_count > 0]\n",
    "\n",
    "    cleaned_data = cleaned_data[logical_not(cleaned_data.passenger_count.isna())]\n",
    "\n",
    "    cleaned_data = cleaned_data[(cleaned_data.fare_amount > 0) & (cleaned_data.total_amount > 0)]\n",
    "    \n",
    "    cleaned_data = cleaned_data[(cleaned_data.tpep_pickup_datetime.dt.year == year) & (cleaned_data.tpep_dropoff_datetime.dt.year == year)]\n",
    "\n",
    "    cleaned_data = cleaned_data[(cleaned_data.tpep_pickup_datetime.dt.month == month) & (cleaned_data.tpep_dropoff_datetime.dt.month == month)]\n",
    "\n",
    "    cleaned_data['year'] = year\n",
    "    return cleaned_data\n",
    "\n",
    "\n",
    "#logic gates can be used to manipulate boolean values\n",
    "\n",
    "\n",
    "    \n",
    "    \n",
    "    # HERE YOUR CODE\n",
    "    raise NotImplementedError\n",
    "\n",
    "df = load_table(2020,1)\n",
    "\n",
    "clean_data(df, 2020, 1)"
   ]
  },
  {
   "cell_type": "markdown",
   "id": "continent-estimate",
   "metadata": {},
   "source": [
    "In the ***post_processing*** function you can add all information you need in order to perform the necessary exploration."
   ]
  },
  {
   "cell_type": "code",
   "execution_count": 34,
   "id": "proprietary-leader",
   "metadata": {
    "tags": []
   },
   "outputs": [],
   "source": [
    "def post_processing(data):\n",
    "    \"\"\"\n",
    "    Function to implement any type of post-processing required.\n",
    "    \"\"\"\n",
    "\n",
    "\n",
    "    \n",
    "    # HERE YOUR CODE\n",
    "\n",
    "\n",
    "    data['trip_distance'] = data['trip_distance']*1.619\n",
    "\n",
    "    return data\n",
    "    "
   ]
  },
  {
   "cell_type": "code",
   "execution_count": null,
   "id": "danish-buddy",
   "metadata": {},
   "outputs": [],
   "source": []
  },
  {
   "cell_type": "markdown",
   "id": "sharp-retreat",
   "metadata": {},
   "source": [
    "Create a new dataset that contains all the information for the years: 2019, 2020, and 2021.\n",
    "\n",
    "Remember that in order to reduce the memory required, you can take a subsample of the data."
   ]
  },
  {
   "cell_type": "code",
   "execution_count": 33,
   "id": "hearing-melbourne",
   "metadata": {
    "tags": []
   },
   "outputs": [
    {
     "data": {
      "application/vnd.jupyter.widget-view+json": {
       "model_id": "c7bab69dd4da440ba19cf9c9ae3f5f2c",
       "version_major": 2,
       "version_minor": 0
      },
      "text/plain": [
       "  0%|          | 0/3 [00:00<?, ?it/s]"
      ]
     },
     "metadata": {},
     "output_type": "display_data"
    },
    {
     "data": {
      "application/vnd.jupyter.widget-view+json": {
       "model_id": "c3ec276f27a441719ea755393d77eca9",
       "version_major": 2,
       "version_minor": 0
      },
      "text/plain": [
       "  0%|          | 0/12 [00:00<?, ?it/s]"
      ]
     },
     "metadata": {},
     "output_type": "display_data"
    },
    {
     "data": {
      "application/vnd.jupyter.widget-view+json": {
       "model_id": "4b178fcc2f954955aa55db8062ed7cf7",
       "version_major": 2,
       "version_minor": 0
      },
      "text/plain": [
       "  0%|          | 0/12 [00:00<?, ?it/s]"
      ]
     },
     "metadata": {},
     "output_type": "display_data"
    },
    {
     "data": {
      "application/vnd.jupyter.widget-view+json": {
       "model_id": "2948240f010b4d17b02fb2e7b53a49bf",
       "version_major": 2,
       "version_minor": 0
      },
      "text/plain": [
       "  0%|          | 0/12 [00:00<?, ?it/s]"
      ]
     },
     "metadata": {},
     "output_type": "display_data"
    }
   ],
   "source": [
    "df = pd.concat([clean_data(load_table(year, month), year, month) for year in tqdm(YEARS) for month in tqdm(range(1, 13), leave = False)])"
   ]
  },
  {
   "cell_type": "code",
   "execution_count": 35,
   "id": "cosmetic-northwest",
   "metadata": {},
   "outputs": [
    {
     "data": {
      "text/html": [
       "<div>\n",
       "<style scoped>\n",
       "    .dataframe tbody tr th:only-of-type {\n",
       "        vertical-align: middle;\n",
       "    }\n",
       "\n",
       "    .dataframe tbody tr th {\n",
       "        vertical-align: top;\n",
       "    }\n",
       "\n",
       "    .dataframe thead th {\n",
       "        text-align: right;\n",
       "    }\n",
       "</style>\n",
       "<table border=\"1\" class=\"dataframe\">\n",
       "  <thead>\n",
       "    <tr style=\"text-align: right;\">\n",
       "      <th></th>\n",
       "      <th>tpep_pickup_datetime</th>\n",
       "      <th>tpep_dropoff_datetime</th>\n",
       "      <th>passenger_count</th>\n",
       "      <th>trip_distance</th>\n",
       "      <th>PULocationID</th>\n",
       "      <th>DOLocationID</th>\n",
       "      <th>payment_type</th>\n",
       "      <th>fare_amount</th>\n",
       "      <th>total_amount</th>\n",
       "      <th>year</th>\n",
       "    </tr>\n",
       "  </thead>\n",
       "  <tbody>\n",
       "    <tr>\n",
       "      <th>0</th>\n",
       "      <td>2019-01-01 00:46:40</td>\n",
       "      <td>2019-01-01 00:53:20</td>\n",
       "      <td>1.0</td>\n",
       "      <td>2.42850</td>\n",
       "      <td>151</td>\n",
       "      <td>239</td>\n",
       "      <td>1</td>\n",
       "      <td>7.0</td>\n",
       "      <td>9.95</td>\n",
       "      <td>2019</td>\n",
       "    </tr>\n",
       "    <tr>\n",
       "      <th>1000</th>\n",
       "      <td>2019-01-01 00:53:09</td>\n",
       "      <td>2019-01-01 01:01:16</td>\n",
       "      <td>1.0</td>\n",
       "      <td>3.09229</td>\n",
       "      <td>148</td>\n",
       "      <td>137</td>\n",
       "      <td>2</td>\n",
       "      <td>8.5</td>\n",
       "      <td>9.80</td>\n",
       "      <td>2019</td>\n",
       "    </tr>\n",
       "    <tr>\n",
       "      <th>2000</th>\n",
       "      <td>2019-01-01 00:50:22</td>\n",
       "      <td>2019-01-01 01:19:44</td>\n",
       "      <td>2.0</td>\n",
       "      <td>12.46630</td>\n",
       "      <td>264</td>\n",
       "      <td>264</td>\n",
       "      <td>1</td>\n",
       "      <td>26.0</td>\n",
       "      <td>31.30</td>\n",
       "      <td>2019</td>\n",
       "    </tr>\n",
       "    <tr>\n",
       "      <th>3000</th>\n",
       "      <td>2019-01-01 00:54:46</td>\n",
       "      <td>2019-01-01 01:03:13</td>\n",
       "      <td>1.0</td>\n",
       "      <td>2.26660</td>\n",
       "      <td>249</td>\n",
       "      <td>164</td>\n",
       "      <td>1</td>\n",
       "      <td>7.5</td>\n",
       "      <td>11.40</td>\n",
       "      <td>2019</td>\n",
       "    </tr>\n",
       "    <tr>\n",
       "      <th>4000</th>\n",
       "      <td>2019-01-01 00:09:29</td>\n",
       "      <td>2019-01-01 00:12:29</td>\n",
       "      <td>2.0</td>\n",
       "      <td>1.08473</td>\n",
       "      <td>162</td>\n",
       "      <td>137</td>\n",
       "      <td>2</td>\n",
       "      <td>4.0</td>\n",
       "      <td>5.30</td>\n",
       "      <td>2019</td>\n",
       "    </tr>\n",
       "    <tr>\n",
       "      <th>...</th>\n",
       "      <td>...</td>\n",
       "      <td>...</td>\n",
       "      <td>...</td>\n",
       "      <td>...</td>\n",
       "      <td>...</td>\n",
       "      <td>...</td>\n",
       "      <td>...</td>\n",
       "      <td>...</td>\n",
       "      <td>...</td>\n",
       "      <td>...</td>\n",
       "    </tr>\n",
       "    <tr>\n",
       "      <th>3106000</th>\n",
       "      <td>2021-12-31 22:00:22</td>\n",
       "      <td>2021-12-31 22:04:55</td>\n",
       "      <td>2.0</td>\n",
       "      <td>1.61900</td>\n",
       "      <td>107</td>\n",
       "      <td>170</td>\n",
       "      <td>1</td>\n",
       "      <td>5.5</td>\n",
       "      <td>11.15</td>\n",
       "      <td>2021</td>\n",
       "    </tr>\n",
       "    <tr>\n",
       "      <th>3108000</th>\n",
       "      <td>2021-12-31 22:45:36</td>\n",
       "      <td>2021-12-31 22:55:16</td>\n",
       "      <td>1.0</td>\n",
       "      <td>2.65516</td>\n",
       "      <td>211</td>\n",
       "      <td>158</td>\n",
       "      <td>2</td>\n",
       "      <td>9.0</td>\n",
       "      <td>12.80</td>\n",
       "      <td>2021</td>\n",
       "    </tr>\n",
       "    <tr>\n",
       "      <th>3109000</th>\n",
       "      <td>2021-12-31 22:55:29</td>\n",
       "      <td>2021-12-31 23:05:10</td>\n",
       "      <td>1.0</td>\n",
       "      <td>2.41231</td>\n",
       "      <td>79</td>\n",
       "      <td>164</td>\n",
       "      <td>2</td>\n",
       "      <td>8.0</td>\n",
       "      <td>11.80</td>\n",
       "      <td>2021</td>\n",
       "    </tr>\n",
       "    <tr>\n",
       "      <th>3110000</th>\n",
       "      <td>2021-12-31 23:26:04</td>\n",
       "      <td>2021-12-31 23:29:32</td>\n",
       "      <td>5.0</td>\n",
       "      <td>1.45710</td>\n",
       "      <td>263</td>\n",
       "      <td>236</td>\n",
       "      <td>1</td>\n",
       "      <td>5.0</td>\n",
       "      <td>11.00</td>\n",
       "      <td>2021</td>\n",
       "    </tr>\n",
       "    <tr>\n",
       "      <th>3111000</th>\n",
       "      <td>2021-12-31 23:12:33</td>\n",
       "      <td>2021-12-31 23:17:37</td>\n",
       "      <td>1.0</td>\n",
       "      <td>1.79709</td>\n",
       "      <td>75</td>\n",
       "      <td>236</td>\n",
       "      <td>2</td>\n",
       "      <td>6.0</td>\n",
       "      <td>9.80</td>\n",
       "      <td>2021</td>\n",
       "    </tr>\n",
       "  </tbody>\n",
       "</table>\n",
       "<p>134050 rows × 10 columns</p>\n",
       "</div>"
      ],
      "text/plain": [
       "        tpep_pickup_datetime tpep_dropoff_datetime  passenger_count  \\\n",
       "0        2019-01-01 00:46:40   2019-01-01 00:53:20              1.0   \n",
       "1000     2019-01-01 00:53:09   2019-01-01 01:01:16              1.0   \n",
       "2000     2019-01-01 00:50:22   2019-01-01 01:19:44              2.0   \n",
       "3000     2019-01-01 00:54:46   2019-01-01 01:03:13              1.0   \n",
       "4000     2019-01-01 00:09:29   2019-01-01 00:12:29              2.0   \n",
       "...                      ...                   ...              ...   \n",
       "3106000  2021-12-31 22:00:22   2021-12-31 22:04:55              2.0   \n",
       "3108000  2021-12-31 22:45:36   2021-12-31 22:55:16              1.0   \n",
       "3109000  2021-12-31 22:55:29   2021-12-31 23:05:10              1.0   \n",
       "3110000  2021-12-31 23:26:04   2021-12-31 23:29:32              5.0   \n",
       "3111000  2021-12-31 23:12:33   2021-12-31 23:17:37              1.0   \n",
       "\n",
       "         trip_distance  PULocationID  DOLocationID  payment_type  fare_amount  \\\n",
       "0              2.42850           151           239             1          7.0   \n",
       "1000           3.09229           148           137             2          8.5   \n",
       "2000          12.46630           264           264             1         26.0   \n",
       "3000           2.26660           249           164             1          7.5   \n",
       "4000           1.08473           162           137             2          4.0   \n",
       "...                ...           ...           ...           ...          ...   \n",
       "3106000        1.61900           107           170             1          5.5   \n",
       "3108000        2.65516           211           158             2          9.0   \n",
       "3109000        2.41231            79           164             2          8.0   \n",
       "3110000        1.45710           263           236             1          5.0   \n",
       "3111000        1.79709            75           236             2          6.0   \n",
       "\n",
       "         total_amount  year  \n",
       "0                9.95  2019  \n",
       "1000             9.80  2019  \n",
       "2000            31.30  2019  \n",
       "3000            11.40  2019  \n",
       "4000             5.30  2019  \n",
       "...               ...   ...  \n",
       "3106000         11.15  2021  \n",
       "3108000         12.80  2021  \n",
       "3109000         11.80  2021  \n",
       "3110000         11.00  2021  \n",
       "3111000          9.80  2021  \n",
       "\n",
       "[134050 rows x 10 columns]"
      ]
     },
     "execution_count": 35,
     "metadata": {},
     "output_type": "execute_result"
    }
   ],
   "source": [
    "df = post_processing(df)\n",
    "df"
   ]
  },
  {
   "cell_type": "code",
   "execution_count": 21,
   "id": "settled-suggestion",
   "metadata": {},
   "outputs": [
    {
     "data": {
      "text/html": [
       "<div>\n",
       "<style scoped>\n",
       "    .dataframe tbody tr th:only-of-type {\n",
       "        vertical-align: middle;\n",
       "    }\n",
       "\n",
       "    .dataframe tbody tr th {\n",
       "        vertical-align: top;\n",
       "    }\n",
       "\n",
       "    .dataframe thead th {\n",
       "        text-align: right;\n",
       "    }\n",
       "</style>\n",
       "<table border=\"1\" class=\"dataframe\">\n",
       "  <thead>\n",
       "    <tr style=\"text-align: right;\">\n",
       "      <th></th>\n",
       "      <th>tpep_pickup_datetime</th>\n",
       "      <th>tpep_dropoff_datetime</th>\n",
       "      <th>passenger_count</th>\n",
       "      <th>trip_distance</th>\n",
       "      <th>PULocationID</th>\n",
       "      <th>DOLocationID</th>\n",
       "      <th>payment_type</th>\n",
       "      <th>fare_amount</th>\n",
       "      <th>total_amount</th>\n",
       "      <th>year</th>\n",
       "    </tr>\n",
       "  </thead>\n",
       "  <tbody>\n",
       "    <tr>\n",
       "      <th>0</th>\n",
       "      <td>2019-01-01 00:46:40</td>\n",
       "      <td>2019-01-01 00:53:20</td>\n",
       "      <td>1.0</td>\n",
       "      <td>1.50</td>\n",
       "      <td>151</td>\n",
       "      <td>239</td>\n",
       "      <td>1</td>\n",
       "      <td>7.0</td>\n",
       "      <td>9.95</td>\n",
       "      <td>2019</td>\n",
       "    </tr>\n",
       "    <tr>\n",
       "      <th>1000</th>\n",
       "      <td>2019-01-01 00:53:09</td>\n",
       "      <td>2019-01-01 01:01:16</td>\n",
       "      <td>1.0</td>\n",
       "      <td>1.91</td>\n",
       "      <td>148</td>\n",
       "      <td>137</td>\n",
       "      <td>2</td>\n",
       "      <td>8.5</td>\n",
       "      <td>9.80</td>\n",
       "      <td>2019</td>\n",
       "    </tr>\n",
       "  </tbody>\n",
       "</table>\n",
       "</div>"
      ],
      "text/plain": [
       "     tpep_pickup_datetime tpep_dropoff_datetime  passenger_count  \\\n",
       "0     2019-01-01 00:46:40   2019-01-01 00:53:20              1.0   \n",
       "1000  2019-01-01 00:53:09   2019-01-01 01:01:16              1.0   \n",
       "\n",
       "      trip_distance  PULocationID  DOLocationID  payment_type  fare_amount  \\\n",
       "0              1.50           151           239             1          7.0   \n",
       "1000           1.91           148           137             2          8.5   \n",
       "\n",
       "      total_amount  year  \n",
       "0             9.95  2019  \n",
       "1000          9.80  2019  "
      ]
     },
     "execution_count": 21,
     "metadata": {},
     "output_type": "execute_result"
    }
   ],
   "source": [
    "df.head(2)"
   ]
  },
  {
   "cell_type": "markdown",
   "id": "equipped-interim",
   "metadata": {},
   "source": [
    "## 02. Visualizations (by years)"
   ]
  },
  {
   "cell_type": "markdown",
   "id": "qualified-title",
   "metadata": {},
   "source": [
    "### Number of trips by year\n",
    "\n",
    "Can you answer the question: **Has covid increased / decreased the number of trips made by taxis?**\n",
    "\n",
    "To answer this question, create a bar figure showing the number of trips per year."
   ]
  },
  {
   "cell_type": "code",
   "execution_count": null,
   "id": "fewer-apparatus",
   "metadata": {},
   "outputs": [],
   "source": [
    "def bar_plot(df, column, xlabel, ylabel, title):\n",
    "    \"\"\"\n",
    "    A function that creates a bar figure from the dataframe *df* and the content of the *column* that contains the information.\n",
    "    \"\"\"\n",
    "\n",
    "    x,y = np.unique(df['anything'], return_counts=True)\n",
    "\n",
    "    plt.bar(*np.unique(df['anything'], return_counts=True)) #* tells plt that the function gives out 2 values and decompresses it\n",
    "    #gives an array containing unique values and how many times each value has appeared\n",
    "    #\n"
   ]
  },
  {
   "cell_type": "code",
   "execution_count": null,
   "id": "extraordinary-bachelor",
   "metadata": {
    "tags": []
   },
   "outputs": [],
   "source": [
    "bar_plot(df, 'year', 'Any', 'Number of trips', 'Number of trips by year')"
   ]
  },
  {
   "cell_type": "markdown",
   "id": "instructional-marsh",
   "metadata": {},
   "source": [
    "**Question: Is this the behavior you expected? Why?**"
   ]
  },
  {
   "cell_type": "markdown",
   "id": "interstate-entertainment",
   "metadata": {},
   "source": [
    "> ANSWER"
   ]
  },
  {
   "cell_type": "code",
   "execution_count": null,
   "id": "brutal-survey",
   "metadata": {},
   "outputs": [],
   "source": []
  },
  {
   "cell_type": "markdown",
   "id": "passive-administrator",
   "metadata": {},
   "source": [
    "Now, you will visualize **how many passengers there are per taxi and per year**.\n",
    "\n",
    "Create a figure with three subplots (one per year) where can be seen the number of passengers per year.\n",
    "\n",
    "Then repeat the same chart viewing the % (use the *norm* parameter)."
   ]
  },
  {
   "cell_type": "code",
   "execution_count": null,
   "id": "shared-highlight",
   "metadata": {},
   "outputs": [],
   "source": [
    "def passengers_taxi_year(df, ylim, xlabel, ylabel, title, norm = False):\n",
    "    \"\"\"\n",
    "    Function that displays how many passengers there are per taxi and per year\n",
    "    \"\"\"\n",
    "    \n",
    "    # HERE YOUR CODE\n",
    "    raise NotImplementedError"
   ]
  },
  {
   "cell_type": "code",
   "execution_count": null,
   "id": "better-wisdom",
   "metadata": {
    "tags": []
   },
   "outputs": [],
   "source": [
    "passengers_taxi_year(df, (0, 60000), 'Passengers per taxi', 'Count', 'Passengers per taxi and per year')"
   ]
  },
  {
   "cell_type": "code",
   "execution_count": null,
   "id": "developing-psychology",
   "metadata": {
    "tags": []
   },
   "outputs": [],
   "source": [
    "passengers_taxi_year(df, (0, 0.8), 'Passengers per taxi', '%', 'Percentage of passengers per taxi and per year', norm = True)"
   ]
  },
  {
   "cell_type": "code",
   "execution_count": null,
   "id": "adjacent-modeling",
   "metadata": {},
   "outputs": [],
   "source": []
  },
  {
   "cell_type": "markdown",
   "id": "developmental-glossary",
   "metadata": {},
   "source": [
    "In the previous figure, you have visualized each year separately. To make the visualization easier to interpret, combine all the information into a graph.\n",
    "\n",
    "The expected visualization has to contain three columns (different colors) for each number of passengers.\n",
    "\n",
    "Then repeat the same chart viewing the % (use the *norm* parameter)."
   ]
  },
  {
   "cell_type": "code",
   "execution_count": null,
   "id": "hairy-reputation",
   "metadata": {},
   "outputs": [],
   "source": [
    "def passengers_taxi(df, xlabel, ylabel, norm = False):\n",
    "    \"\"\"\n",
    "    Function that displays how many passengers there are per taxi\n",
    "    \"\"\"\n",
    "    \n",
    "    # HERE YOUR CODE\n",
    "    raise NotImplementedError"
   ]
  },
  {
   "cell_type": "code",
   "execution_count": null,
   "id": "cooked-florida",
   "metadata": {
    "tags": []
   },
   "outputs": [],
   "source": [
    "passengers_taxi(df, 'Passengers per taxi', 'Count')"
   ]
  },
  {
   "cell_type": "code",
   "execution_count": null,
   "id": "annoying-picnic",
   "metadata": {
    "tags": []
   },
   "outputs": [],
   "source": [
    "passengers_taxi(df, 'Passengers per taxi', '%', norm = True)"
   ]
  },
  {
   "cell_type": "markdown",
   "id": "invisible-stability",
   "metadata": {},
   "source": [
    "**Question: What impact have you seen on the data? Do you think covid had a lot of impact?**"
   ]
  },
  {
   "cell_type": "markdown",
   "id": "coral-nickname",
   "metadata": {},
   "source": [
    "> ANSWER"
   ]
  },
  {
   "cell_type": "code",
   "execution_count": null,
   "id": "fiscal-rotation",
   "metadata": {},
   "outputs": [],
   "source": []
  },
  {
   "cell_type": "markdown",
   "id": "continental-catalyst",
   "metadata": {},
   "source": [
    "## 03. Number of trips\n",
    "\n",
    "So far, you have seen the number of trips there have been in the years studied.\n",
    "\n",
    "Let's study what changes can be seen if you aggregate the data by hours, days of the week, week of the year, and months.\n",
    "\n",
    "\n",
    "These visualizations have to be done for the *pick-up* and *drop-off* columns. \n",
    "\n",
    "Furthermore, the information has to be split by year and represented with dashed lines, and marked with a round or cross wherever the value is."
   ]
  },
  {
   "cell_type": "code",
   "execution_count": null,
   "id": "material-needle",
   "metadata": {},
   "outputs": [],
   "source": [
    "def visualize_trips(df, columns, title, xlabel, ylabel):\n",
    "    \"\"\"\n",
    "    Function that visualizes the number of trips by different data aggregations\n",
    "    \"\"\"\n",
    "    # HERE YOUR CODE\n",
    "    raise NotImplementedError"
   ]
  },
  {
   "cell_type": "code",
   "execution_count": null,
   "id": "timely-chapter",
   "metadata": {
    "tags": []
   },
   "outputs": [],
   "source": [
    "visualize_trips(df, ['pickup_month', 'dropoff_month'], title = 'Number of trips per month', xlabel = 'Month of the year', ylabel = 'Count')"
   ]
  },
  {
   "cell_type": "code",
   "execution_count": null,
   "id": "aware-affair",
   "metadata": {
    "tags": []
   },
   "outputs": [],
   "source": [
    "visualize_trips(df, ['pickup_week', 'dropoff_week'], title = 'Number of trips per week of the year', xlabel = 'Week of the year', ylabel = 'Count')"
   ]
  },
  {
   "cell_type": "code",
   "execution_count": null,
   "id": "velvet-heart",
   "metadata": {
    "tags": []
   },
   "outputs": [],
   "source": [
    "visualize_trips(df, ['pickup_hour', 'dropoff_hour'], title = 'Number of trips per hour', xlabel = 'Time of day', ylabel = 'Count')"
   ]
  },
  {
   "cell_type": "code",
   "execution_count": null,
   "id": "dramatic-monitoring",
   "metadata": {
    "tags": []
   },
   "outputs": [],
   "source": [
    "visualize_trips(df, ['pickup_day', 'dropoff_day'], title = 'Number of trips per day of the week', xlabel = 'Day of the week', ylabel = 'Count')"
   ]
  },
  {
   "cell_type": "markdown",
   "id": "unavailable-facing",
   "metadata": {},
   "source": [
    "**Question: What behaviors do you see in each case? What do you think is the reason?**"
   ]
  },
  {
   "cell_type": "markdown",
   "id": "entertaining-animal",
   "metadata": {},
   "source": [
    "> ANSWER"
   ]
  },
  {
   "cell_type": "code",
   "execution_count": null,
   "id": "established-compression",
   "metadata": {},
   "outputs": [],
   "source": []
  },
  {
   "cell_type": "markdown",
   "id": "sticky-chancellor",
   "metadata": {},
   "source": [
    "## 04. Distance/duration and speed relationship\n",
    "\n",
    "In the data, there is the distance traveled by taxis on each trip. Furthermore, you can extract the duration of the trips using: *tpep_dropoff_datetime* and *tpep_pickup_datetime*.\n",
    "\n",
    "Now, you will find out how covid affected the distances and durations of journeys along with the speed of taxis.\n",
    "\n",
    "Do you think the traffic density changed?"
   ]
  },
  {
   "cell_type": "markdown",
   "id": "upset-associate",
   "metadata": {},
   "source": [
    "### Histograms\n",
    "\n",
    "Visualize the **histograms** of distance and duration per year.\n",
    "\n",
    "You can use *plt.hist()* or *plt.bar()* function."
   ]
  },
  {
   "cell_type": "code",
   "execution_count": null,
   "id": "pleased-providence",
   "metadata": {},
   "outputs": [],
   "source": [
    "def visualize_histograms(df, column, title, xlabel, ylabel, xlim):\n",
    "    \"\"\"\n",
    "    Function that creates a histogram from the information contained in the column *column* of the dataframe *df*\n",
    "    \"\"\"\n",
    "    \n",
    "    # HERE YOUR CODE\n",
    "    raise NotImplementedError"
   ]
  },
  {
   "cell_type": "code",
   "execution_count": null,
   "id": "central-southeast",
   "metadata": {
    "tags": []
   },
   "outputs": [],
   "source": [
    "visualize_histograms(df, 'trip_distance', title = 'Distance traveled per year', \n",
    "                     xlabel = 'Distance (km)', ylabel = 'Count', xlim = (-5, 80))\n",
    "\n",
    "visualize_histograms(df, 'trip_duration', title = 'Duration of trips per year', \n",
    "                     xlabel = 'Duration (h)', ylabel = 'Count', xlim = (-1, 25) )"
   ]
  },
  {
   "cell_type": "markdown",
   "id": "rocky-champion",
   "metadata": {},
   "source": [
    "**QUESTIONS:**\n",
    "\n",
    "* How do you think covid affected travel distances and durations?\n",
    "\n",
    "* And the speed of taxis?"
   ]
  },
  {
   "cell_type": "markdown",
   "id": "expanded-mauritius",
   "metadata": {},
   "source": [
    "> ANSWER"
   ]
  },
  {
   "cell_type": "code",
   "execution_count": null,
   "id": "opening-expense",
   "metadata": {},
   "outputs": [],
   "source": []
  },
  {
   "cell_type": "markdown",
   "id": "related-identification",
   "metadata": {
    "tags": []
   },
   "source": [
    "### Scatter plot and correlation\n",
    "\n",
    "Create scatter plots to illustrate the relationship between trip duration and distance.\n",
    "\n",
    "It is possible that the data contain samples outside the distribution (outliers). In this case, skip this samples and display the figure again.\n",
    "\n",
    "To see if any correlation exists, it is interesting to use the *sns.regplot()* function."
   ]
  },
  {
   "cell_type": "code",
   "execution_count": null,
   "id": "stylish-sister",
   "metadata": {},
   "outputs": [],
   "source": [
    "def scatter_plot(df, x_value, y_value, xlabel, ylabel, remove_outliers = False):\n",
    "    \"\"\"\n",
    "    Function that displays a scatter plot given the name of the columns that contains the information\n",
    "    \"\"\"\n",
    "    # HERE YOUR CODE\n",
    "    raise NotImplementedError"
   ]
  },
  {
   "cell_type": "code",
   "execution_count": null,
   "id": "seasonal-beatles",
   "metadata": {
    "tags": []
   },
   "outputs": [],
   "source": [
    "scatter_plot(df, 'trip_distance', 'trip_duration', 'Distance (km)', 'Duration (h)')"
   ]
  },
  {
   "cell_type": "code",
   "execution_count": null,
   "id": "sought-certificate",
   "metadata": {
    "tags": []
   },
   "outputs": [],
   "source": [
    "scatter_plot(df, 'trip_distance', 'trip_duration', 'Distance (km)', 'Duration (h)', True)"
   ]
  },
  {
   "cell_type": "markdown",
   "id": "acquired-genius",
   "metadata": {},
   "source": [
    "**Question: Can you see any relationship? Can you calculate the correlation between the data to get more information?**"
   ]
  },
  {
   "cell_type": "markdown",
   "id": "asian-remove",
   "metadata": {},
   "source": [
    "> ANSWER"
   ]
  },
  {
   "cell_type": "code",
   "execution_count": null,
   "id": "polar-result",
   "metadata": {},
   "outputs": [],
   "source": []
  },
  {
   "cell_type": "markdown",
   "id": "pleased-flush",
   "metadata": {},
   "source": [
    "As you did in section 3, visualize the time and distance data for the weeks and months of the year."
   ]
  },
  {
   "cell_type": "code",
   "execution_count": null,
   "id": "timely-contrast",
   "metadata": {},
   "outputs": [],
   "source": [
    "def visualize_per_period(df, column_data, columns, xlabel, ylabel, title):\n",
    "    \"\"\"\n",
    "    Function that show the distance / duration of trips in the time determined\n",
    "    \"\"\"\n",
    "    # HERE YOUR CODE\n",
    "    raise NotImplementedError"
   ]
  },
  {
   "cell_type": "code",
   "execution_count": null,
   "id": "signed-latvia",
   "metadata": {
    "tags": []
   },
   "outputs": [],
   "source": [
    "visualize_per_period(df, 'trip_distance', columns = ['pickup_week', 'dropoff_week'],\n",
    "                    xlabel = 'Week of the year', ylabel = 'Mean distance (km)', title = 'Distance by weeks of the year')"
   ]
  },
  {
   "cell_type": "code",
   "execution_count": null,
   "id": "suspended-negative",
   "metadata": {
    "tags": []
   },
   "outputs": [],
   "source": [
    "visualize_per_period(df, 'trip_distance', columns = ['pickup_month', 'dropoff_month'],\n",
    "                     xlabel = 'Month of the year', ylabel = 'Mean distance (km)', title = 'Distance by months of the year')"
   ]
  },
  {
   "cell_type": "code",
   "execution_count": null,
   "id": "inside-norway",
   "metadata": {
    "tags": []
   },
   "outputs": [],
   "source": [
    "visualize_per_period(df, 'trip_duration', columns = ['pickup_week', 'dropoff_week'],\n",
    "                     xlabel = 'Week of the year', ylabel = 'Mean duration (h)', title = 'Duration by weeks of the year')"
   ]
  },
  {
   "cell_type": "code",
   "execution_count": null,
   "id": "elder-triple",
   "metadata": {
    "tags": []
   },
   "outputs": [],
   "source": [
    "visualize_per_period(df, 'trip_duration', columns = ['pickup_month', 'dropoff_month'],\n",
    "                     xlabel = 'Month of the year', ylabel = 'Mean duration (h)', title = 'Duration by months of the year')"
   ]
  },
  {
   "cell_type": "markdown",
   "id": "forward-roberts",
   "metadata": {},
   "source": [
    "**Question: Is there any strange behavior apart from covid? What can it be caused by?**\n",
    "\n",
    "> ANSWER"
   ]
  },
  {
   "cell_type": "code",
   "execution_count": null,
   "id": "empty-contract",
   "metadata": {},
   "outputs": [],
   "source": []
  },
  {
   "cell_type": "markdown",
   "id": "neural-warning",
   "metadata": {},
   "source": [
    "So far, you have shown the data by aggregating different information.\n",
    "\n",
    "Now, you have to visualize the data like images. For that, you will use the *plt.imshow()* function which displays images and arrays.\n",
    "\n",
    "Implement a function that displays heatmaps by year (each function display 3 heatmaps, one per year):\n",
    "\n",
    "- a heatmap showing what time of day are the longest trips during the year.\n",
    "- a heatmap showing what time of day are the longest trips during the week."
   ]
  },
  {
   "cell_type": "code",
   "execution_count": null,
   "id": "spanish-citation",
   "metadata": {},
   "outputs": [],
   "source": [
    "def heatmap(df, group, column_data, xlabel, ylabel, columns = None):\n",
    "    \"\"\"\n",
    "    Function that aggregates data appropriately to display a heatmap\n",
    "    \"\"\"\n",
    "    \n",
    "    # HERE YOUR CODE\n",
    "    raise NotImplementedError"
   ]
  },
  {
   "cell_type": "code",
   "execution_count": null,
   "id": "deluxe-badge",
   "metadata": {
    "tags": []
   },
   "outputs": [],
   "source": [
    "heatmap(df, ['pickup_hour', 'pickup_dayofyear'], 'trip_duration', 'Days of the year', 'Hours of the day')"
   ]
  },
  {
   "cell_type": "code",
   "execution_count": null,
   "id": "victorian-protest",
   "metadata": {
    "tags": []
   },
   "outputs": [],
   "source": [
    "heatmap(df, ['pickup_hour', 'pickup_day'], 'trip_duration', 'Times of day', 'Days of the week', ['Monday', 'Tuesday', 'Wednesday', 'Thursday', 'Friday', 'Saturday', 'Sunday'])"
   ]
  },
  {
   "cell_type": "code",
   "execution_count": null,
   "id": "alpine-cache",
   "metadata": {},
   "outputs": [],
   "source": []
  },
  {
   "cell_type": "markdown",
   "id": "actual-participation",
   "metadata": {
    "tags": []
   },
   "source": [
    "Repeat the previous heatmaps visualizing the distance."
   ]
  },
  {
   "cell_type": "code",
   "execution_count": null,
   "id": "satisfactory-bobby",
   "metadata": {},
   "outputs": [],
   "source": [
    "heatmap(df, ['pickup_hour', 'pickup_dayofyear'], 'trip_distance', 'Days of the year', 'Times of the day')"
   ]
  },
  {
   "cell_type": "code",
   "execution_count": null,
   "id": "judicial-plastic",
   "metadata": {
    "tags": []
   },
   "outputs": [],
   "source": [
    "heatmap(df, ['pickup_hour', 'pickup_day'], 'trip_distance', 'Times of the day', 'Days of the week', ['Monday', 'Tuesday', 'Wednesday', 'Thursday', 'Friday', 'Saturday', 'Sunday'])"
   ]
  },
  {
   "cell_type": "code",
   "execution_count": null,
   "id": "communist-library",
   "metadata": {},
   "outputs": [],
   "source": []
  },
  {
   "cell_type": "markdown",
   "id": "federal-finger",
   "metadata": {},
   "source": [
    "Finally, view the average speed at different times of the day during the week."
   ]
  },
  {
   "cell_type": "code",
   "execution_count": null,
   "id": "subtle-allah",
   "metadata": {
    "tags": []
   },
   "outputs": [],
   "source": [
    "def speed_heatmap(df, group, xlabel, ylabel, columns = None):\n",
    "    \"\"\"\n",
    "    Function that aggregates data appropriately to display a speed heatmap\n",
    "    \"\"\"\n",
    "    \n",
    "    # HERE YOUR CODE\n",
    "    raise NotImplementedError"
   ]
  },
  {
   "cell_type": "code",
   "execution_count": null,
   "id": "popular-sydney",
   "metadata": {
    "tags": []
   },
   "outputs": [],
   "source": [
    "speed_heatmap(df, ['pickup_hour', 'pickup_day'], 'Times of the day', 'Days of the week', ['Monday', 'Tuesday', 'Wednesday', 'Thursday', 'Friday', 'Saturday', 'Sunday'])"
   ]
  },
  {
   "cell_type": "markdown",
   "id": "ecological-delaware",
   "metadata": {},
   "source": [
    "**Question: Which conclusions do you obtain from the heatmaps?**\n",
    "    \n",
    "> ANSWER"
   ]
  },
  {
   "cell_type": "code",
   "execution_count": null,
   "id": "turkish-olive",
   "metadata": {},
   "outputs": [],
   "source": []
  },
  {
   "cell_type": "markdown",
   "id": "governing-segment",
   "metadata": {},
   "source": [
    "## 05. Visualize the locations of the trips"
   ]
  },
  {
   "cell_type": "code",
   "execution_count": null,
   "id": "accredited-guitar",
   "metadata": {},
   "outputs": [],
   "source": [
    "df.head()"
   ]
  },
  {
   "cell_type": "markdown",
   "id": "electoral-impression",
   "metadata": {},
   "source": [
    "The data only has the ID of a location, so you need to add the latitude and longitude.\n",
    "\n",
    "This information is saved in *data/geodata/taxi_zones.shp*.\n",
    "\n",
    "The next cells can be understood as a black box."
   ]
  },
  {
   "cell_type": "code",
   "execution_count": null,
   "id": "blank-restriction",
   "metadata": {},
   "outputs": [],
   "source": [
    "from utils import get_lat_lon, draw_region_map, draw_zone_map"
   ]
  },
  {
   "cell_type": "code",
   "execution_count": null,
   "id": "waiting-rebecca",
   "metadata": {
    "tags": []
   },
   "outputs": [],
   "source": [
    "sf = shapefile.Reader('data/geodata/taxi_zones.shp')\n",
    "\n",
    "fields_name = [field[0] for field in sf.fields[1:]]\n",
    "shp_dic = dict(zip(fields_name, list(range(len(fields_name)))))\n",
    "attributes = sf.records()\n",
    "shp_attr = [dict(zip(fields_name, attr)) for attr in attributes]"
   ]
  },
  {
   "cell_type": "code",
   "execution_count": null,
   "id": "logical-branch",
   "metadata": {},
   "outputs": [],
   "source": [
    "df_loc = pd.DataFrame(shp_attr).join(get_lat_lon(sf, shp_dic).set_index(\"LocationID\"), on=\"LocationID\")\n",
    "df_loc.head()"
   ]
  },
  {
   "cell_type": "code",
   "execution_count": null,
   "id": "seasonal-debut",
   "metadata": {
    "tags": []
   },
   "outputs": [],
   "source": [
    "fig, ax = plt.subplots(nrows=1, ncols=2, figsize=(15,8))\n",
    "\n",
    "ax = plt.subplot(1, 2, 1)\n",
    "ax.set_title(\"Boroughs in NYC\")\n",
    "draw_region_map(ax, sf, shp_dic)\n",
    "\n",
    "ax = plt.subplot(1, 2, 2)\n",
    "ax.set_title(\"Zones in NYC\")\n",
    "draw_zone_map(ax, sf, shp_dic)"
   ]
  },
  {
   "cell_type": "code",
   "execution_count": null,
   "id": "bigger-ambassador",
   "metadata": {},
   "outputs": [],
   "source": []
  },
  {
   "cell_type": "markdown",
   "id": "chemical-portsmouth",
   "metadata": {},
   "source": [
    "Now you have two dataframes that you need to join. Use the *pd.merge* function to add the longitude and latitude to the *df* dataframe:"
   ]
  },
  {
   "cell_type": "code",
   "execution_count": null,
   "id": "offensive-short",
   "metadata": {},
   "outputs": [],
   "source": [
    "# HERE YOUR CODE\n",
    "merge = ..."
   ]
  },
  {
   "cell_type": "code",
   "execution_count": null,
   "id": "innocent-therapy",
   "metadata": {},
   "outputs": [],
   "source": [
    "merge.shape"
   ]
  },
  {
   "cell_type": "code",
   "execution_count": null,
   "id": "sensitive-cooper",
   "metadata": {},
   "outputs": [],
   "source": []
  },
  {
   "cell_type": "markdown",
   "id": "roman-verse",
   "metadata": {},
   "source": [
    "## 06. Which are the areas/zones with more pick-up and drop-off?\n",
    "\n",
    "In this section, you have to visualize the areas where taxis are most used.\n",
    "\n",
    "The first step is to sort and save in a variable the most common places in the pick-up and drop-off.\n",
    "\n",
    "The variables *top_pu* and *top_do* contains a dataframe with columns: 'year', 'PULocationID', and 'count'."
   ]
  },
  {
   "cell_type": "code",
   "execution_count": null,
   "id": "agricultural-wallpaper",
   "metadata": {},
   "outputs": [],
   "source": [
    "# Pick-up\n",
    "# HERE YOUR CODE\n",
    "top_pu = ...\n",
    "top_pu.columns = ['year', 'PULocationID', 'count']\n",
    "\n",
    "# Drop-off\n",
    "# HERE YOUR CODE\n",
    "top_do = ...\n",
    "top_do.columns = ['year', 'DOLocationID', 'count']"
   ]
  },
  {
   "cell_type": "code",
   "execution_count": null,
   "id": "important-moisture",
   "metadata": {},
   "outputs": [],
   "source": []
  },
  {
   "cell_type": "markdown",
   "id": "lesbian-vacation",
   "metadata": {},
   "source": [
    "Print the 5 most frequent zones per year and in each case (pick-up and drop-off)."
   ]
  },
  {
   "cell_type": "code",
   "execution_count": null,
   "id": "surgical-perth",
   "metadata": {},
   "outputs": [],
   "source": [
    "n_top = 5\n",
    "def show_top_n(df, column, df_loc, n_top = n_top):\n",
    "    \n",
    "    \"\"\"\n",
    "    Function that print the most common zones by year\n",
    "    \"\"\"\n",
    "    # HERE YOUR CODE\n",
    "    raise NotImplementedError"
   ]
  },
  {
   "cell_type": "code",
   "execution_count": null,
   "id": "ultimate-firewall",
   "metadata": {},
   "outputs": [],
   "source": [
    "show_top_n(top_pu, 'PULocationID', df_loc)"
   ]
  },
  {
   "cell_type": "code",
   "execution_count": null,
   "id": "native-climate",
   "metadata": {},
   "outputs": [],
   "source": [
    "show_top_n(top_do, 'DOLocationID', df_loc)"
   ]
  },
  {
   "cell_type": "code",
   "execution_count": null,
   "id": "demographic-universe",
   "metadata": {
    "tags": []
   },
   "outputs": [],
   "source": []
  },
  {
   "cell_type": "markdown",
   "id": "plain-evanescence",
   "metadata": {},
   "source": [
    "**Let's see with a heat map which are the most common zones**"
   ]
  },
  {
   "cell_type": "code",
   "execution_count": null,
   "id": "victorian-horizon",
   "metadata": {},
   "outputs": [],
   "source": [
    "for year in YEARS:\n",
    "    \n",
    "    PUcount = {k:v for k, v in top_do[top_do.year == year][['DOLocationID', 'count']].values}\n",
    "\n",
    "    fig, ax = plt.subplots(nrows=1, ncols=2, figsize=(12,5))\n",
    "    ax = plt.subplot(1, 2, 1)\n",
    "    ax.set_title(f\"Zones with most pickups - {year}\")\n",
    "    draw_zone_map(ax, sf, shp_dic, heat=PUcount, text=list(PUcount.keys())[:3])\n",
    "    ax = plt.subplot(1, 2, 2)\n",
    "    ax.set_title(f\"Zones with most drop-offs - {year}\")\n",
    "    draw_zone_map(ax, sf, shp_dic, heat=PUcount, text=list(PUcount.keys())[:3])"
   ]
  },
  {
   "cell_type": "markdown",
   "id": "recent-universal",
   "metadata": {},
   "source": [
    "**Question: Why do you think the Manhattan area has more trips?**\n",
    "\n",
    "> ANSWER"
   ]
  },
  {
   "cell_type": "code",
   "execution_count": null,
   "id": "blond-destination",
   "metadata": {},
   "outputs": [],
   "source": []
  },
  {
   "cell_type": "markdown",
   "id": "protective-mambo",
   "metadata": {},
   "source": [
    "## 07. Hospitals\n",
    "\n",
    "How has the travel destination changed? Are more people going to hospitals?\n",
    "\n",
    "In the next cell, there is a DataFrame with the most important hospitals in New York and their locations."
   ]
  },
  {
   "cell_type": "code",
   "execution_count": null,
   "id": "buried-crawford",
   "metadata": {},
   "outputs": [],
   "source": [
    "hospitals = [('New York’s Presbyterian Lower Manhattan Hospital, NYC, NY, USA', '40.710255', '-74.005058'),\n",
    "('Manhattan Gastroenterology, NYC, NY, USA', '40.778259', '-73.958092'),\n",
    "('Stem Cell Therapy Hospital, NYC, NY, USA', '40.601517', '-73.961067'),\n",
    "('Park Avenue Smiles, Yonkers, NYC, NY, USA', '40.945873', '-73.890671'),\n",
    "('Cosmetic Dentistry Center, NYC, NY, USA', '40.629234', '-74.026077'),\n",
    "('Envy Smile Dental Spa, Brooklyn, NYC, NY, USA', '40.607059', '-73.960144'),\n",
    "('VIVA EVE, Forest Hills, NYC, NY, USA', '40.734291', '-73.849434'),\n",
    "('Forest Hills Medical Services, Queens, NYC, NY, USA', '40.734310', '-73.849510'),\n",
    "('Professional Gynecological Services, Brooklyn, NY, NY, USA', '40.689747', '-73.982346'),\n",
    "('Manhattan Womens Health & Wellness, New York, NY, USA', '40.741997', '-73.986107'),\n",
    "('Brooklyn Abortion Clinic, Brooklyn, NY, New York, USA', '40.689743', '-73.982368'),\n",
    "('Brooklyn GYN Place, Brooklyn, NY, USA', '40.692696', '-73.993584'),\n",
    "('Americas Holistic Doctor, NYC, NY, USA', '40.742531', '-73.985489'),\n",
    "('NJS Physical Medicine & Rehabilitation, Brooklyn, NY, USA', '40.641621', '-73.956734'),\n",
    "('DHD Medical, Brooklyn New York, USA', '40.625568', '-73.918320'),\n",
    "('Workers Compensation Doctor, New York, NY, USA', '40.652225', '-74.006104'),]\n",
    "\n",
    "hospitals = pd.DataFrame(hospitals, columns = ['Place Name', 'Latitude', 'Longitude'])\n",
    "hospitals['Latitude'] = hospitals['Latitude'].astype(float)\n",
    "hospitals['Longitude'] = hospitals['Longitude'].astype(float)\n",
    "hospitals.head()"
   ]
  },
  {
   "cell_type": "code",
   "execution_count": null,
   "id": "hybrid-duplicate",
   "metadata": {},
   "outputs": [],
   "source": []
  },
  {
   "cell_type": "markdown",
   "id": "necessary-rhythm",
   "metadata": {},
   "source": [
    "Use the latitude and longitude of each hospital and the latitude and longitude of the zone (information in *merge* dataframe) to see the distribution of the hospitals \"on the map\".\n",
    "\n",
    "To do this, use a scatter plot. It will be better understood if the points are transparent (parameter *alpha*).\n",
    "\n",
    "Also, remember how the longitude and latitude data have to be plotted in the figure.\n",
    "\n",
    "Then repeat the same scatter plot but separated by years."
   ]
  },
  {
   "cell_type": "code",
   "execution_count": null,
   "id": "sustainable-renaissance",
   "metadata": {},
   "outputs": [],
   "source": [
    "def scatter_locations(merge, hospitals):\n",
    "    \"\"\"Function showing the distribution of hospitals and taxi destinations\"\"\"\n",
    "    # HERE YOUR CODE\n",
    "    raise NotImplementedError"
   ]
  },
  {
   "cell_type": "code",
   "execution_count": null,
   "id": "smart-princeton",
   "metadata": {},
   "outputs": [],
   "source": [
    "scatter_locations(merge, hospitals)"
   ]
  },
  {
   "cell_type": "code",
   "execution_count": null,
   "id": "meaning-energy",
   "metadata": {},
   "outputs": [],
   "source": [
    "def scatter_locations_per_year(merge, hospitals):\n",
    "    \"\"\"Function showing the distribution of hospitals and taxi destinations per year\"\"\"\n",
    "    # HERE YOUR CODE\n",
    "    raise NotImplementedError"
   ]
  },
  {
   "cell_type": "code",
   "execution_count": null,
   "id": "representative-theory",
   "metadata": {},
   "outputs": [],
   "source": [
    "scatter_locations_per_year(merge, hospitals)"
   ]
  },
  {
   "cell_type": "markdown",
   "id": "unavailable-skirt",
   "metadata": {},
   "source": [
    "**Question: Do you see any behavior?**\n",
    "\n",
    ">ANSWER"
   ]
  },
  {
   "cell_type": "code",
   "execution_count": null,
   "id": "typical-sapphire",
   "metadata": {},
   "outputs": [],
   "source": []
  },
  {
   "cell_type": "markdown",
   "id": "tired-species",
   "metadata": {},
   "source": [
    "To find out how trips to hospitals have changed, you need to detect in which zone is each hospital.\n",
    "\n",
    "To do it, you need to calculate the distances between the hospitals and the zones. \n",
    "\n",
    "Do not calculate the distance point-to-point, but matrix-wise."
   ]
  },
  {
   "cell_type": "code",
   "execution_count": null,
   "id": "drawn-revision",
   "metadata": {},
   "outputs": [],
   "source": [
    "from scipy.spatial import distance_matrix"
   ]
  },
  {
   "cell_type": "code",
   "execution_count": null,
   "id": "olive-primary",
   "metadata": {},
   "outputs": [],
   "source": [
    "hospitals_loc = hospitals[['Longitude', 'Latitude']].values\n",
    "loc = df_loc[['longitude', 'latitude']].values\n",
    "\n",
    "# HERE YOUR CODE\n",
    "dist = ..."
   ]
  },
  {
   "cell_type": "code",
   "execution_count": null,
   "id": "composed-respect",
   "metadata": {},
   "outputs": [],
   "source": [
    "# Distances as an image\n",
    "plt.figure(figsize=(20, 5))\n",
    "plt.imshow(dist)"
   ]
  },
  {
   "cell_type": "code",
   "execution_count": null,
   "id": "romance-cross",
   "metadata": {},
   "outputs": [],
   "source": []
  },
  {
   "cell_type": "markdown",
   "id": "residential-swiss",
   "metadata": {},
   "source": [
    "Find a way to locate the nearest sector based on distances."
   ]
  },
  {
   "cell_type": "code",
   "execution_count": null,
   "id": "driving-moisture",
   "metadata": {},
   "outputs": [],
   "source": [
    "# HERE YOUR CODE\n",
    "hospitals_locations = ...\n",
    "hospitals['LocationID'] = hospitals_locations"
   ]
  },
  {
   "cell_type": "code",
   "execution_count": null,
   "id": "imperial-issue",
   "metadata": {},
   "outputs": [],
   "source": [
    "hospitals.head()"
   ]
  },
  {
   "cell_type": "code",
   "execution_count": null,
   "id": "focal-atlas",
   "metadata": {},
   "outputs": [],
   "source": []
  },
  {
   "cell_type": "markdown",
   "id": "hourly-beads",
   "metadata": {},
   "source": [
    "Now that you know the zone of each hospital, visualize how many trips are related to them.\n",
    "\n",
    "You will assume that all trips in the zone go to the hospital.\n",
    "\n",
    "Make a single figure with two bar plots showing the number of trips for each year and the % of total trips."
   ]
  },
  {
   "cell_type": "code",
   "execution_count": null,
   "id": "banned-accommodation",
   "metadata": {},
   "outputs": [],
   "source": [
    "def trips_hospitals(df, hospitals_locations):\n",
    "    \"\"\"\n",
    "    Function that displays a single figure with two bar plots showing the number of trips for each year and the % of total trips.\n",
    "    \"\"\"\n",
    "    # HERE YOUR CODE\n",
    "    raise NotImplementedError"
   ]
  },
  {
   "cell_type": "code",
   "execution_count": null,
   "id": "drawn-greenhouse",
   "metadata": {},
   "outputs": [],
   "source": [
    "trips_hospitals(df, hospitals_locations)"
   ]
  },
  {
   "cell_type": "markdown",
   "id": "persistent-antibody",
   "metadata": {},
   "source": [
    "## 08. Curiosity killed the cat\n",
    "\n",
    "In the **first part** you must view and comment on the examples you have removed, such as very long distances, very short distances...\n",
    "\n",
    "In the **second part** you are free to choose and make visualizations that bring you extra information that has not been seen before."
   ]
  },
  {
   "cell_type": "code",
   "execution_count": null,
   "id": "modified-escape",
   "metadata": {},
   "outputs": [],
   "source": []
  },
  {
   "cell_type": "markdown",
   "id": "excellent-halloween",
   "metadata": {},
   "source": [
    "## 09. Report\n",
    "\n",
    "Based on the data exploration you have done throughout this notebook, make a short report summarizing and justifying all the changes that have arisen due to covid."
   ]
  },
  {
   "cell_type": "code",
   "execution_count": null,
   "id": "prime-inclusion",
   "metadata": {},
   "outputs": [],
   "source": []
  }
 ],
 "metadata": {
  "kernelspec": {
   "display_name": "Python 3.7.3 ('base')",
   "language": "python",
   "name": "python3"
  },
  "language_info": {
   "codemirror_mode": {
    "name": "ipython",
    "version": 3
   },
   "file_extension": ".py",
   "mimetype": "text/x-python",
   "name": "python",
   "nbconvert_exporter": "python",
   "pygments_lexer": "ipython3",
   "version": "3.7.3"
  },
  "vscode": {
   "interpreter": {
    "hash": "1f3124fd321718a795f64321516f549b55e2561facc6ae4f0a18ab479bc57bb1"
   }
  }
 },
 "nbformat": 4,
 "nbformat_minor": 5
}
